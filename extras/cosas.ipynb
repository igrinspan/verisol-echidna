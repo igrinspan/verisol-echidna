{
 "cells": [
  {
   "cell_type": "markdown",
   "metadata": {},
   "source": [
    "#### Función para crear modifiers"
   ]
  },
  {
   "cell_type": "code",
   "execution_count": 2,
   "metadata": {},
   "outputs": [],
   "source": [
    "def create_modifier(name, requires):\n",
    "    res = f\"\\tmodifier {name} {{\\n\"\n",
    "    for require in requires:\n",
    "        res += f\"\\t\\trequire({require});\\n\"\n",
    "    res += \"\\t\\t_;\\n\"\n",
    "    res += \"\\t}\\n\\n\"\n",
    "    return res\n"
   ]
  },
  {
   "cell_type": "code",
   "execution_count": 4,
   "metadata": {},
   "outputs": [
    {
     "name": "stdout",
     "output_type": "stream",
     "text": [
      "\tmodifier hasInitialized {\n",
      "\t\trequire(has_initialized);\n",
      "\t\trequire(otro_require);\n",
      "\t\t_;\n",
      "\t}\n",
      "\n",
      "\n"
     ]
    }
   ],
   "source": [
    "print(create_modifier(\"hasInitialized\", [\"has_initialized\", \"otro_require\"]))"
   ]
  }
 ],
 "metadata": {
  "kernelspec": {
   "display_name": "Python 3",
   "language": "python",
   "name": "python3"
  },
  "language_info": {
   "codemirror_mode": {
    "name": "ipython",
    "version": 3
   },
   "file_extension": ".py",
   "mimetype": "text/x-python",
   "name": "python",
   "nbconvert_exporter": "python",
   "pygments_lexer": "ipython3",
   "version": "3.8.2"
  },
  "orig_nbformat": 4
 },
 "nbformat": 4,
 "nbformat_minor": 2
}
