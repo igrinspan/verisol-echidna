{
 "cells": [
  {
   "cell_type": "markdown",
   "metadata": {},
   "source": [
    "#### Función para crear modifiers"
   ]
  },
  {
   "cell_type": "code",
   "execution_count": 2,
   "metadata": {},
   "outputs": [],
   "source": [
    "def create_modifier(name, requires):\n",
    "    res = f\"\\tmodifier {name} {{\\n\"\n",
    "    for require in requires:\n",
    "        res += f\"\\t\\trequire({require});\\n\"\n",
    "    res += \"\\t\\t_;\\n\"\n",
    "    res += \"\\t}\\n\\n\"\n",
    "    return res\n"
   ]
  },
  {
   "cell_type": "code",
   "execution_count": 4,
   "metadata": {},
   "outputs": [
    {
     "name": "stdout",
     "output_type": "stream",
     "text": [
      "\tmodifier hasInitialized {\n",
      "\t\trequire(has_initialized);\n",
      "\t\trequire(otro_require);\n",
      "\t\t_;\n",
      "\t}\n",
      "\n",
      "\n"
     ]
    }
   ],
   "source": [
    "print(create_modifier(\"hasInitialized\", [\"has_initialized\", \"otro_require\"]))"
   ]
  },
  {
   "cell_type": "markdown",
   "metadata": {},
   "source": [
    "### Cosas"
   ]
  },
  {
   "cell_type": "code",
   "execution_count": null,
   "metadata": {},
   "outputs": [],
   "source": [
    "\n",
    "# Le pasás el índice del estado y te retorna lo que iría dentro del require de ese estado.\n",
    "def build_state_predicate(state_index):\n",
    "  function_name = statesNamesModeState[state_index]\n",
    "  function_name = \"_\".join((function_name).split())\n",
    "  first_line = \"function \" + function_name + \"() view returns(bool) {\" + newline(1)\n",
    "  body = tabs(2) + \"return\" + statePreconditionsModeState[state_index] + newline(1)\n",
    "  return first_line + body + newline(1) + tabs(1) +  \"}\"\n",
    "\n",
    "def tabs(count):\n",
    "  return \"\\t\" * count\n",
    "\n",
    "def newline(count):\n",
    "  return \"\\n\" * count\n",
    "\n",
    "# Por si corro un mismo contrato más de una vez. Para eliminar aristas repetidas.\n",
    "def remove_duplicates_from_results(init_failed, transitions_failed):\n",
    "    transitions_failed_without_duplicates = remove_duplicates(transitions_failed)\n",
    "    init_failed_without_duplicates = remove_duplicates(init_failed)\n",
    "    return init_failed_without_duplicates, transitions_failed_without_duplicates\n",
    "\n",
    "def remove_duplicates(list_of_lists):\n",
    "    list_of_lists.sort()\n",
    "    return list(res for res, _ in itertools.groupby(list_of_lists))\n",
    "\n",
    "# De la clase ContractCreator\n",
    "def change_for_balance_equal_to_zero(self, contract_filename):\n",
    "    newlines = []\n",
    "    lines = open(contract_filename, 'r').readlines()\n",
    "    for line in lines:\n",
    "        if 'balance = msg.value;' in line:\n",
    "            line = line.replace('balance = msg.value;', 'balance = 0;')\n",
    "        newlines.append(line)\n",
    "\n",
    "    write_file_from_string(contract_filename, newlines)\n",
    "\n",
    "def change_for_goal_equal_to_zero(self, contract_filename):\n",
    "    newlines = []\n",
    "    lines = open(contract_filename, 'r').readlines()\n",
    "    for line in lines:\n",
    "        if 'goal = _goal;' in line:\n",
    "            line = line.replace('goal = _goal;', 'goal = 0;')\n",
    "        newlines.append(line)\n",
    "\n",
    "    write_file_from_string(contract_filename, newlines)\n",
    "\n",
    "def set_initial_balance_to_0(self, contract_filename):\n",
    "    lines = open(contract_filename, 'r').readlines()\n",
    "    new_lines = []\n",
    "    for line in lines:\n",
    "        if \"balance = _balance;\" in line:\n",
    "            new_lines += [line.replace(\"_balance\", \"0\")]\n",
    "        elif \"goal = _goal;\" in line:\n",
    "            new_lines += [line.replace(\"_goal\", \"0\")]\n",
    "        else:\n",
    "            new_lines += [line]\n",
    "    write_file_from_string(contract_filename, new_lines)\n",
    "\n",
    "def create_all_contracts(self):\n",
    "    return self.create_transitions_contract(), self.create_init_contract()\n",
    "\n",
    "\n",
    "# De EchidnaRunner (desactualizado)\n",
    "def run_contract_saving_output(self):\n",
    "    result = self.set_up_and_run(self.contract, contractName)\n",
    "    write_file = open(f'{self.directory}/pruebas.txt','w')\n",
    "    for line in result.splitlines():\n",
    "        write_file.write(line)\n",
    "    write_file.close()\n",
    "    return self.process_output(result)\n",
    "    \n",
    "# iterate over files in echidna_output directory\n",
    "def borrar_directorios():\n",
    "  dir = os.getcwd()\n",
    "  echidna_output_dir = f'{dir}/verisol-test-main/echidna_output'\n",
    "  for filename in os.listdir(echidna_output_dir):\n",
    "      f = os.path.join(echidna_output_dir, filename)\n",
    "      for new_level_filename in os.listdir(f):\n",
    "          print(new_level_filename)\n",
    "          shutil.rmtree(f'{f}/{new_level_filename}')"
   ]
  }
 ],
 "metadata": {
  "kernelspec": {
   "display_name": "Python 3",
   "language": "python",
   "name": "python3"
  },
  "language_info": {
   "codemirror_mode": {
    "name": "ipython",
    "version": 3
   },
   "file_extension": ".py",
   "mimetype": "text/x-python",
   "name": "python",
   "nbconvert_exporter": "python",
   "pygments_lexer": "ipython3",
   "version": "3.8.2"
  },
  "orig_nbformat": 4
 },
 "nbformat": 4,
 "nbformat_minor": 2
}
