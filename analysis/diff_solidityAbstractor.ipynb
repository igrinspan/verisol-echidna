{
 "cells": [
  {
   "cell_type": "markdown",
   "metadata": {},
   "source": [
    "#### Comparar grafos con los de SolidityAbstractor\n",
    "Compara los grafos resultantes de correr este programa con VeriSol con los resultantes de SolidityAbstractor, bajo las mismas condiciones (`txBound` y `timeout`).\n",
    "Es sólo un sanity check para ver que no haya ningún bug en mi programa y que los grafos sean iguales."
   ]
  },
  {
   "cell_type": "code",
   "execution_count": 1,
   "metadata": {},
   "outputs": [],
   "source": [
    "import os\n",
    "import json5 as json\n",
    "import pygraphviz as pgv"
   ]
  },
  {
   "cell_type": "code",
   "execution_count": 2,
   "metadata": {},
   "outputs": [],
   "source": [
    "class MyGraph:\n",
    "    def __init__(self, graph):\n",
    "        self.graph = pgv.AGraph(graph)\n",
    "        self.nodes = set(self.graph.nodes())\n",
    "        self.edges = self.get_edges_with_labels()\n",
    "        self.labels_of_nodes = self.get_labels_of_nodes()\n",
    "\n",
    "    def get_edges_with_labels(self):\n",
    "        return set(map(lambda x: (x, x.attr[\"label\"].strip()), self.graph.edges()))\n",
    "    \n",
    "    def get_labels_of_nodes(self):\n",
    "        return set(map(lambda x: x.attr[\"label\"].strip(), self.graph.nodes()))\n",
    "\n",
    "    def equals(self, other_graph):\n",
    "        return self.edges == other_graph.edges and self.labels_of_nodes == other_graph.labels_of_nodes\n"
   ]
  },
  {
   "cell_type": "code",
   "execution_count": 3,
   "metadata": {},
   "outputs": [],
   "source": [
    "VERISOL_GRAPHS_DIR = \"../results/verisol_output\"\n",
    "contracts = os.listdir(VERISOL_GRAPHS_DIR)\n",
    "dirs = [os.path.join(VERISOL_GRAPHS_DIR, contract) for contract in contracts]\n",
    "dirs = [os.path.join(d, subdir) for d in dirs for subdir in [\"epa/8\", \"states/8\"]]"
   ]
  },
  {
   "cell_type": "code",
   "execution_count": 4,
   "metadata": {},
   "outputs": [],
   "source": [
    "full_dirs = []\n",
    "\n",
    "for d in dirs:\n",
    "    if os.path.exists(os.path.join(d, \"graph\")):\n",
    "        d = os.path.join(d, \"graph\")\n",
    "    else:\n",
    "        d = os.path.join(d, \"reduce_combinations/graph\")\n",
    "    \n",
    "    full_dirs.append(d)"
   ]
  },
  {
   "cell_type": "code",
   "execution_count": 5,
   "metadata": {},
   "outputs": [
    {
     "name": "stdout",
     "output_type": "stream",
     "text": [
      "-- Before --\n",
      "../results/verisol_output/HelloBlockchain_fixed/epa/8\n",
      "../results/verisol_output/HelloBlockchain_fixed/states/8\n",
      "\n",
      "-- After --\n",
      "../results/verisol_output/HelloBlockchain_fixed/epa/8/graph\n",
      "../results/verisol_output/HelloBlockchain_fixed/states/8/graph\n"
     ]
    }
   ],
   "source": [
    "print(\"-- Before --\")\n",
    "print(dirs[0])\n",
    "print(dirs[1])\n",
    "print()\n",
    "print(\"-- After --\")\n",
    "print(full_dirs[0])\n",
    "print(full_dirs[1])"
   ]
  },
  {
   "cell_type": "code",
   "execution_count": 6,
   "metadata": {},
   "outputs": [],
   "source": [
    "def fix_filename(filename):\n",
    "    filename = filename.replace(\"_fixed\", \"\")\n",
    "    filename = filename.replace(\"CrowdfundingT_BaseBalanceFix\", \"CrowdfundingBase\")\n",
    "    filename = filename.replace(\"CrowdfundingT_BaseBalance\", \"CrowdfundingBase\")\n",
    "    filename = filename.replace(\"RefundEscrowWithdraw\", \"RefundEscrow\")\n",
    "    return filename\n",
    "\n",
    "filenames = [f\"{fix_filename(f)}_{mode}\" for f in contracts for mode in [\"Mode.epa\", \"Mode.states\"]]"
   ]
  },
  {
   "cell_type": "code",
   "execution_count": 7,
   "metadata": {},
   "outputs": [],
   "source": [
    "# Link / join each filename with its corresponding directory (they are already in order) from full_dirs\n",
    "# So that results in the path of each graph file\n",
    "graphs = list(map(lambda x: os.path.join(*x), zip(full_dirs, filenames)))"
   ]
  },
  {
   "cell_type": "code",
   "execution_count": 8,
   "metadata": {},
   "outputs": [
    {
     "name": "stdout",
     "output_type": "stream",
     "text": [
      "File ../results/verisol_output/Auction/states/8/reduce_combinations/graph/Auction_Mode.states does not exist\n",
      "File ../results/verisol_output/AuctionWithdraw/epa/8/reduce_combinations/graph/AuctionWithdraw_Mode.epa does not exist\n",
      "File ../results/verisol_output/AuctionWithdraw/states/8/reduce_combinations/graph/AuctionWithdraw_Mode.states does not exist\n",
      "File ../results/verisol_output/SimpleAuctionHB/epa/8/reduce_combinations/graph/SimpleAuctionHB_Mode.epa does not exist\n",
      "File ../results/verisol_output/SimpleAuctionHB/states/8/reduce_combinations/graph/SimpleAuctionHB_Mode.states does not exist\n",
      "File ../results/verisol_output/CrowdfundingT_BaseBalance/states/8/reduce_combinations/graph/CrowdfundingBase_Mode.states does not exist\n",
      "File ../results/verisol_output/SimpleAuctionEnded/epa/8/reduce_combinations/graph/SimpleAuctionEnded_Mode.epa does not exist\n",
      "File ../results/verisol_output/SimpleAuctionEnded/states/8/reduce_combinations/graph/SimpleAuctionEnded_Mode.states does not exist\n",
      "File ../results/verisol_output/AuctionEnded/epa/8/reduce_combinations/graph/AuctionEnded_Mode.epa does not exist\n",
      "File ../results/verisol_output/AuctionEnded/states/8/reduce_combinations/graph/AuctionEnded_Mode.states does not exist\n",
      "File ../results/verisol_output/CrowdfundingT_BaseBalanceFix/states/8/reduce_combinations/graph/CrowdfundingBase_Mode.states does not exist\n",
      "File ../results/verisol_output/SimpleAuction/states/8/reduce_combinations/graph/SimpleAuction_Mode.states does not exist\n",
      "File ../results/verisol_output/ValidatorAuction_withdraw/states/8/reduce_combinations/graph/ValidatorAuction_withdraw_Mode.states does not exist\n",
      "File ../results/verisol_output/CrowdfundingT_Base/states/8/reduce_combinations/graph/CrowdfundingT_Base_Mode.states does not exist\n",
      "File ../results/verisol_output/SimpleAuctionT/epa/8/reduce_combinations/graph/SimpleAuctionT_Mode.epa does not exist\n",
      "File ../results/verisol_output/SimpleAuctionT/states/8/reduce_combinations/graph/SimpleAuctionT_Mode.states does not exist\n",
      "File ../results/verisol_output/RefundEscrowWithdraw/states/8/reduce_combinations/graph/RefundEscrow_Mode.states does not exist\n"
     ]
    },
    {
     "data": {
      "text/plain": [
       "['../results/verisol_output/Auction/states/8/reduce_combinations/graph/Auction_Mode.states',\n",
       " '../results/verisol_output/AuctionWithdraw/epa/8/reduce_combinations/graph/AuctionWithdraw_Mode.epa',\n",
       " '../results/verisol_output/AuctionWithdraw/states/8/reduce_combinations/graph/AuctionWithdraw_Mode.states',\n",
       " '../results/verisol_output/SimpleAuctionHB/epa/8/reduce_combinations/graph/SimpleAuctionHB_Mode.epa',\n",
       " '../results/verisol_output/SimpleAuctionHB/states/8/reduce_combinations/graph/SimpleAuctionHB_Mode.states',\n",
       " '../results/verisol_output/CrowdfundingT_BaseBalance/states/8/reduce_combinations/graph/CrowdfundingBase_Mode.states',\n",
       " '../results/verisol_output/SimpleAuctionEnded/epa/8/reduce_combinations/graph/SimpleAuctionEnded_Mode.epa',\n",
       " '../results/verisol_output/SimpleAuctionEnded/states/8/reduce_combinations/graph/SimpleAuctionEnded_Mode.states',\n",
       " '../results/verisol_output/AuctionEnded/epa/8/reduce_combinations/graph/AuctionEnded_Mode.epa',\n",
       " '../results/verisol_output/AuctionEnded/states/8/reduce_combinations/graph/AuctionEnded_Mode.states',\n",
       " '../results/verisol_output/CrowdfundingT_BaseBalanceFix/states/8/reduce_combinations/graph/CrowdfundingBase_Mode.states',\n",
       " '../results/verisol_output/SimpleAuction/states/8/reduce_combinations/graph/SimpleAuction_Mode.states',\n",
       " '../results/verisol_output/ValidatorAuction_withdraw/states/8/reduce_combinations/graph/ValidatorAuction_withdraw_Mode.states',\n",
       " '../results/verisol_output/CrowdfundingT_Base/states/8/reduce_combinations/graph/CrowdfundingT_Base_Mode.states',\n",
       " '../results/verisol_output/SimpleAuctionT/epa/8/reduce_combinations/graph/SimpleAuctionT_Mode.epa',\n",
       " '../results/verisol_output/SimpleAuctionT/states/8/reduce_combinations/graph/SimpleAuctionT_Mode.states',\n",
       " '../results/verisol_output/RefundEscrowWithdraw/states/8/reduce_combinations/graph/RefundEscrow_Mode.states']"
      ]
     },
     "execution_count": 8,
     "metadata": {},
     "output_type": "execute_result"
    }
   ],
   "source": [
    "# Check if all files in graphs are valid files and return false otherwise\n",
    "def check_files(graphs):\n",
    "    no_estan = []\n",
    "    for graph in graphs:\n",
    "        if not os.path.isfile(graph):\n",
    "            print(f\"File {graph} does not exist\")\n",
    "            no_estan.append(graph)\n",
    "    return no_estan\n",
    "\n",
    "check_files(graphs) # Hay algunos grafos que no corrimos en modo states por ejemplo, así que está bien que no exsitan."
   ]
  },
  {
   "cell_type": "code",
   "execution_count": 9,
   "metadata": {},
   "outputs": [],
   "source": [
    "benchmarks = [\n",
    "            \"HelloBlockchain\",\n",
    "            \"RefrigeratedTransportation\",\n",
    "            \"HelloBlockchain_fixed\",\n",
    "            \"RefrigeratedTransportation_fixed\", \n",
    "            \"RockPaperScissors\",\n",
    "            \"CrowdfundingT_BaseBalanceFix\",\n",
    "            \"RefundEscrowWithdraw\",\n",
    "]\n",
    "\n",
    "ignore = [(\"CrowdfundingT_BaseBalanceFix\", \"s\"), (\"RefundEscrowWithdraw\", \"s\")]"
   ]
  },
  {
   "cell_type": "code",
   "execution_count": 10,
   "metadata": {},
   "outputs": [],
   "source": [
    "contracts_to_compare = [(c, mode) for c in benchmarks for mode in [\"e\", \"s\"] if (c, mode) not in ignore]"
   ]
  },
  {
   "cell_type": "code",
   "execution_count": 11,
   "metadata": {},
   "outputs": [
    {
     "name": "stdout",
     "output_type": "stream",
     "text": [
      "File ../results/verisol_output/CrowdfundingT_BaseBalanceFix/states/8/reduce_combinations/graph/CrowdfundingBase_Mode.states does not exist\n",
      "File ../results/verisol_output/RefundEscrowWithdraw/states/8/reduce_combinations/graph/RefundEscrow_Mode.states does not exist\n",
      "a: ['../results/verisol_output/CrowdfundingT_BaseBalanceFix/states/8/reduce_combinations/graph/CrowdfundingBase_Mode.states', '../results/verisol_output/RefundEscrowWithdraw/states/8/reduce_combinations/graph/RefundEscrow_Mode.states']\n"
     ]
    }
   ],
   "source": [
    "# Remove from graphs the ones that do not match with contracts_to_compare\n",
    "# For example, (\"CrowdfundingT_BaseBalanceFix\", \"s\") is not in contracts_to_compare,\n",
    "# but ../results/verisol_output/CrowdfundingT_BaseBalanceFix/states/8/reduce_combinations/graph/CrowdfundingBase_Mode.states is in graphs\n",
    "# So we remove it from graphs\n",
    "\n",
    "def remove_not_matching(graphs, contracts_to_compare):\n",
    "    new = []\n",
    "    for graph in graphs:\n",
    "        for contract, mode in contracts_to_compare:\n",
    "            if contract in graph and mode in graph:\n",
    "                new.append(graph)\n",
    "                break\n",
    "    return new\n",
    "\n",
    "graphs2 = remove_not_matching(graphs, contracts_to_compare)\n",
    "\n",
    "files_to_discard = check_files(graphs2)\n",
    "print(f\"Files to discard: {files_to_discard}\")\n",
    "\n",
    "# Remove elements of 'a' from graphs2\n",
    "graphs2 = [graph for graph in graphs2 if graph not in files_to_discard]"
   ]
  },
  {
   "cell_type": "code",
   "execution_count": 14,
   "metadata": {},
   "outputs": [],
   "source": [
    "list1 = graphs2\n",
    "BECA_DIR = \"/Users/iangrinspan/desktop/Beca\"\n",
    "list2 = os.listdir(f\"{BECA_DIR}/SolidityAbstractor/graph/k_8/to_600/\")\n",
    "list2 = [x for x in list2 if x.endswith(\"epa\") or x.endswith(\"states\")]\n",
    "list2 = [os.path.join(f\"{BECA_DIR}/SolidityAbstractor/graph/k_8/to_600/\", x) for x in list2]"
   ]
  },
  {
   "cell_type": "code",
   "execution_count": 15,
   "metadata": {},
   "outputs": [],
   "source": [
    "# Rename the files from list2 replacing Fixed with _fixed\n",
    "def rename_files(list2):\n",
    "    for file in list2:\n",
    "        if \"Fixed\" in file:\n",
    "            print(file)\n",
    "            os.rename(file, file.replace(\"Fixed\", \"_fixed\"))\n",
    "\n",
    "rename_files(list2)"
   ]
  },
  {
   "cell_type": "code",
   "execution_count": 20,
   "metadata": {},
   "outputs": [],
   "source": [
    "# Match each graph in graphs2 with its corresponding graph in list2 in a tuple\n",
    "def match_graphs(list1, list2):\n",
    "    if len(list1) != len(list2):\n",
    "        print(\"Lists have different length\")\n",
    "        return None\n",
    "\n",
    "    list1.sort()\n",
    "    list2.sort()\n",
    "\n",
    "    return list(zip(list1, list2))\n",
    "\n",
    "graphs2 = list(map(os.path.realpath, graphs2))\n",
    "res = match_graphs(graphs2, list2)"
   ]
  },
  {
   "cell_type": "code",
   "execution_count": null,
   "metadata": {},
   "outputs": [],
   "source": [
    "res"
   ]
  },
  {
   "cell_type": "code",
   "execution_count": 22,
   "metadata": {},
   "outputs": [],
   "source": [
    "# Compare each pair of graphs in res using MyGraph.equals\n",
    "def compare_graphs(res):\n",
    "    for graph1, graph2 in res:\n",
    "        g1 = MyGraph(graph1)\n",
    "        g2 = MyGraph(graph2)\n",
    "        if not g1.equals(g2):\n",
    "            print(f\"Graphs {graph1} and {graph2} are not equal\")\n",
    "            print(g1.edges)\n",
    "            print(g2.edges)\n",
    "\n",
    "\n",
    "compare_graphs(res)"
   ]
  },
  {
   "cell_type": "code",
   "execution_count": null,
   "metadata": {},
   "outputs": [],
   "source": []
  }
 ],
 "metadata": {
  "kernelspec": {
   "display_name": "Python 3",
   "language": "python",
   "name": "python3"
  },
  "language_info": {
   "codemirror_mode": {
    "name": "ipython",
    "version": 3
   },
   "file_extension": ".py",
   "mimetype": "text/x-python",
   "name": "python",
   "nbconvert_exporter": "python",
   "pygments_lexer": "ipython3",
   "version": "3.8.2"
  }
 },
 "nbformat": 4,
 "nbformat_minor": 2
}
